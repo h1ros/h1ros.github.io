{
 "cells": [
  {
   "cell_type": "markdown",
   "metadata": {},
   "source": [
    "# T-test Basic\n",
    "This post covers one of the simplest hypothesis test, so-called T-test. Let's say you subscribe coffee beans weekly basis and measure the weight of each coffee beans bags and obtained the following observation. \n",
    "\n",
    "Now the package says this coffee beans is 16 oz i.e., 453.592 g. Is this actually true from statistical point of view?   \n"
   ]
  },
  {
   "cell_type": "code",
   "execution_count": 8,
   "metadata": {
    "ExecuteTime": {
     "end_time": "2022-07-20T05:18:38.580365Z",
     "start_time": "2022-07-20T05:18:38.153063Z"
    }
   },
   "outputs": [],
   "source": [
    "import pandas as pd\n",
    "import numpy as np\n",
    "import scipy as sp\n",
    "from scipy import stats\n",
    "from icecream import ic"
   ]
  },
  {
   "cell_type": "code",
   "execution_count": 34,
   "metadata": {
    "ExecuteTime": {
     "end_time": "2022-07-20T05:35:11.805428Z",
     "start_time": "2022-07-20T05:35:11.801034Z"
    }
   },
   "outputs": [],
   "source": [
    "beans = pd.Series([448.2, 451.2, 448.0, 452.5, 447.8, 446.7])"
   ]
  },
  {
   "cell_type": "markdown",
   "metadata": {},
   "source": [
    "# Manual Calculation for P-value and t-value"
   ]
  },
  {
   "cell_type": "code",
   "execution_count": 43,
   "metadata": {
    "ExecuteTime": {
     "end_time": "2022-07-20T05:53:15.110394Z",
     "start_time": "2022-07-20T05:53:14.957178Z"
    }
   },
   "outputs": [
    {
     "name": "stderr",
     "output_type": "stream",
     "text": [
      "ic| n: 6\n",
      "ic| mu: 449.06666666666666\n",
      "ic| dof: 5\n",
      "ic| sigma: 2.255363976538303\n",
      "ic| se: 0.9207484877955424\n",
      "ic| t: -4.9148419935696905\n",
      "ic| p: 0.004417201842481733\n"
     ]
    }
   ],
   "source": [
    "# mu_0 for Null Hypothesis\n",
    "mu0 = 453.592\n",
    "\n",
    "# Sample size\n",
    "n = len(beans)\n",
    "ic(n)\n",
    "\n",
    "# Sample Mean\n",
    "mu = beans.mean()\n",
    "ic(mu)\n",
    "# Degree of Freedam\n",
    "dof = n - 1\n",
    "ic(dof)\n",
    "\n",
    "# Sample Stnadard Deviation\n",
    "sigma = beans.std(ddof=1)\n",
    "ic(sigma)\n",
    "\n",
    "# Standard Error\n",
    "se = sigma / np.sqrt(n)\n",
    "ic(se)\n",
    "\n",
    "# t-value\n",
    "t = (mu - mu0) / se\n",
    "ic(t)\n",
    "\n",
    "# p-value - 2 * (1 - cdf(|ts|))\n",
    "p = (1 - stats.t.cdf(abs(t), df=dof)) * 2\n",
    "ic(p);"
   ]
  },
  {
   "cell_type": "markdown",
   "metadata": {},
   "source": [
    "# Using scipy module"
   ]
  },
  {
   "cell_type": "code",
   "execution_count": 37,
   "metadata": {
    "ExecuteTime": {
     "end_time": "2022-07-20T05:37:36.454223Z",
     "start_time": "2022-07-20T05:37:36.447207Z"
    },
    "scrolled": true
   },
   "outputs": [
    {
     "data": {
      "text/plain": [
       "Ttest_1sampResult(statistic=-4.914841993569691, pvalue=0.004417201842481753)"
      ]
     },
     "execution_count": 37,
     "metadata": {},
     "output_type": "execute_result"
    }
   ],
   "source": [
    "# Use scipy stats \n",
    "stats.ttest_1samp(beans, mu0)"
   ]
  },
  {
   "cell_type": "markdown",
   "metadata": {},
   "source": [
    "If p-value is typically lower than 0.05 (alpha), we can rejust null-hypothesis (its population mean is mu0) and conclude this sample mean is significantly different from mu0. "
   ]
  }
 ],
 "metadata": {
  "kernelspec": {
   "display_name": "Python 3 (py36)",
   "language": "python",
   "name": "python3"
  },
  "language_info": {
   "codemirror_mode": {
    "name": "ipython",
    "version": 3
   },
   "file_extension": ".py",
   "mimetype": "text/x-python",
   "name": "python",
   "nbconvert_exporter": "python",
   "pygments_lexer": "ipython3",
   "version": "3.6.9"
  },
  "nikola": {
   "author": "h1ros",
   "category": "",
   "date": "2022-07-19 21:50:52 UTC-07:00",
   "description": "",
   "link": "",
   "slug": "t-test-basic",
   "tags": "statistics, test",
   "title": "t-Test Basic",
   "type": "text"
  },
  "toc": {
   "base_numbering": 1,
   "nav_menu": {},
   "number_sections": true,
   "sideBar": true,
   "skip_h1_title": false,
   "title_cell": "Table of Contents",
   "title_sidebar": "Contents",
   "toc_cell": false,
   "toc_position": {},
   "toc_section_display": true,
   "toc_window_display": false
  }
 },
 "nbformat": 4,
 "nbformat_minor": 2
}
