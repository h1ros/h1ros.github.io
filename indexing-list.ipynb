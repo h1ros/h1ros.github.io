{
 "cells": [
  {
   "cell_type": "markdown",
   "metadata": {},
   "source": [
    "# Goal\n",
    "This post aims to introduce the operation around `list` and `index` often used for data structure and algorithm. This post covers the following operations:\n",
    "\n",
    "1. Create a list \n",
    "2. Access to an element\n",
    "3. Remove an element\n",
    "4. Divide a list \n",
    "5. Scan a list\n"
   ]
  },
  {
   "cell_type": "code",
   "execution_count": 44,
   "metadata": {
    "ExecuteTime": {
     "end_time": "2022-07-17T19:49:29.417665Z",
     "start_time": "2022-07-17T19:49:29.413075Z"
    }
   },
   "outputs": [],
   "source": [
    "from icecream import ic"
   ]
  },
  {
   "cell_type": "markdown",
   "metadata": {
    "ExecuteTime": {
     "end_time": "2022-07-17T18:55:37.249826Z",
     "start_time": "2022-07-17T18:55:37.242877Z"
    }
   },
   "source": [
    "# Create a `list `"
   ]
  },
  {
   "cell_type": "code",
   "execution_count": 45,
   "metadata": {
    "ExecuteTime": {
     "end_time": "2022-07-17T19:49:29.826121Z",
     "start_time": "2022-07-17T19:49:29.750142Z"
    }
   },
   "outputs": [
    {
     "name": "stderr",
     "output_type": "stream",
     "text": [
      "ic| a0: [], a1: [0, 1, 2, 3, 4, 5]\n"
     ]
    }
   ],
   "source": [
    "# Empty List\n",
    "a0 = list()\n",
    "\n",
    "# Create a list by elemnts\n",
    "a1 = [0, 1, 2, 3, 4, 5]\n",
    "\n",
    "ic(a0, a1);"
   ]
  },
  {
   "cell_type": "markdown",
   "metadata": {},
   "source": [
    "When to create a list from `p` to `q` as an incremental list of `int`, we can use `range`. Note that `p` is included but `q` is not included. If we don't specify `p`, it becomes `0` by default. "
   ]
  },
  {
   "cell_type": "code",
   "execution_count": 46,
   "metadata": {
    "ExecuteTime": {
     "end_time": "2022-07-17T19:49:30.535885Z",
     "start_time": "2022-07-17T19:49:30.372945Z"
    }
   },
   "outputs": [
    {
     "name": "stderr",
     "output_type": "stream",
     "text": [
      "ic| list(range(p, q)): [0, 1, 2, 3, 4, 5, 6, 7, 8, 9]\n",
      "    list(range(10)): [0, 1, 2, 3, 4, 5, 6, 7, 8, 9]\n"
     ]
    }
   ],
   "source": [
    "p = 0\n",
    "q = 10\n",
    "ic(list(range(p, q)), list(range(10)));"
   ]
  },
  {
   "cell_type": "markdown",
   "metadata": {},
   "source": [
    "# Access to an element by index\n",
    "\n",
    "Index is starting from 0. If you would like to access to N-th element, you need to specify by (N-1) "
   ]
  },
  {
   "cell_type": "code",
   "execution_count": 52,
   "metadata": {
    "ExecuteTime": {
     "end_time": "2022-07-17T19:50:24.458944Z",
     "start_time": "2022-07-17T19:50:24.298377Z"
    }
   },
   "outputs": [
    {
     "name": "stderr",
     "output_type": "stream",
     "text": [
      "ic| a2[0]: 0\n",
      "ic| a2[4]: 4\n",
      "ic| a2[-1]: 9\n",
      "ic| a2[-2]: 8\n"
     ]
    }
   ],
   "source": [
    "a2 = list(range(10))\n",
    "\n",
    "# 1st element\n",
    "ic(a2[0])\n",
    "\n",
    "# 5th element\n",
    "ic(a2[4]);\n",
    "\n",
    "# The last element\n",
    "ic(a2[-1]);\n",
    "\n",
    "# The 2nd last element\n",
    "ic(a2[-2]);\n"
   ]
  },
  {
   "cell_type": "markdown",
   "metadata": {},
   "source": [
    "## Slice a list by a range of index\n",
    "When we want to extract a set of elements from `p`th element to `q`th element, we can use `:`. If we want to specify the range counting from the last element, we could use negative index like `-p`. \n",
    "\n"
   ]
  },
  {
   "cell_type": "code",
   "execution_count": 48,
   "metadata": {
    "ExecuteTime": {
     "end_time": "2022-07-17T19:49:31.819419Z",
     "start_time": "2022-07-17T19:49:31.660246Z"
    }
   },
   "outputs": [
    {
     "name": "stderr",
     "output_type": "stream",
     "text": [
      "ic| p: 2, q: 5, a2: [0, 1, 2, 3, 4, 5, 6, 7, 8, 9], a2[p:q]: [2, 3, 4]\n"
     ]
    }
   ],
   "source": [
    "p = 2 # From 3rd element (included) \n",
    "q = 5 # To 6th element (excluded)\n",
    "a2 = list(range(10))\n",
    "ic(p, q, a2, a2[p:q]);"
   ]
  },
  {
   "cell_type": "code",
   "execution_count": 49,
   "metadata": {
    "ExecuteTime": {
     "end_time": "2022-07-17T19:49:32.017664Z",
     "start_time": "2022-07-17T19:49:31.880271Z"
    }
   },
   "outputs": [
    {
     "name": "stderr",
     "output_type": "stream",
     "text": [
      "ic| q: 5, a2[0:q]: [0, 1, 2, 3, 4], a2[:q]: [0, 1, 2, 3, 4]\n"
     ]
    }
   ],
   "source": [
    "ic(q, a2[0:q], a2[:q]);"
   ]
  },
  {
   "cell_type": "code",
   "execution_count": 50,
   "metadata": {
    "ExecuteTime": {
     "end_time": "2022-07-17T19:49:32.852015Z",
     "start_time": "2022-07-17T19:49:32.740712Z"
    }
   },
   "outputs": [
    {
     "name": "stderr",
     "output_type": "stream",
     "text": [
      "ic| q: 5, a2[-3:]: [7, 8, 9], a2[-3:-1]: [7, 8]\n"
     ]
    }
   ],
   "source": [
    "ic(q, a2[-3:], a2[-3:-1]);"
   ]
  },
  {
   "cell_type": "markdown",
   "metadata": {},
   "source": [
    "# Remove an element "
   ]
  },
  {
   "cell_type": "markdown",
   "metadata": {},
   "source": [
    "## Remove an element by `pop`"
   ]
  },
  {
   "cell_type": "code",
   "execution_count": 54,
   "metadata": {
    "ExecuteTime": {
     "end_time": "2022-07-17T19:51:29.487730Z",
     "start_time": "2022-07-17T19:51:29.333288Z"
    }
   },
   "outputs": [
    {
     "name": "stderr",
     "output_type": "stream",
     "text": [
      "ic| e0: 0, a2: [1, 2, 3, 4, 5, 6, 7, 8, 9]\n",
      "ic| e1: 9, a2: [1, 2, 3, 4, 5, 6, 7, 8]\n"
     ]
    }
   ],
   "source": [
    "a2 = list(range(10))\n",
    "\n",
    "# Get the 1st element and remove it from a list\n",
    "e0 = a2.pop(0)\n",
    "ic(e0, a2);\n",
    "\n",
    "# Get the last element and remove it from a list\n",
    "e1 = a2.pop(-1)\n",
    "ic(e1, a2);"
   ]
  },
  {
   "cell_type": "markdown",
   "metadata": {},
   "source": [
    "# Divide a list into before and after by a pivot element\n",
    "\n",
    "When we want to recursively apply a process to before- and after- sublist divided by a pivot element, we need an operation like below: "
   ]
  },
  {
   "cell_type": "code",
   "execution_count": 56,
   "metadata": {
    "ExecuteTime": {
     "end_time": "2022-07-17T19:55:17.381326Z",
     "start_time": "2022-07-17T19:55:17.257979Z"
    }
   },
   "outputs": [
    {
     "name": "stderr",
     "output_type": "stream",
     "text": [
      "ic| a2[:i]: [0, 1, 2], a2[i]: 3, a2[i+1:]: [4, 5, 6, 7, 8, 9]\n"
     ]
    }
   ],
   "source": [
    "a2 = list(range(10))\n",
    "\n",
    "i = 3 # index for the pivot value\n",
    "\n",
    "ic(a2[:i], a2[i], a2[i+1:]);"
   ]
  },
  {
   "cell_type": "markdown",
   "metadata": {},
   "source": [
    "# Scan a list by `for` loop\n",
    "\n",
    "1. Use `enumerate` to get each index and element itself\n",
    "2. Use `range` to generate an index and access each element by index"
   ]
  },
  {
   "cell_type": "code",
   "execution_count": 61,
   "metadata": {
    "ExecuteTime": {
     "end_time": "2022-07-17T19:57:38.236280Z",
     "start_time": "2022-07-17T19:57:38.032815Z"
    }
   },
   "outputs": [
    {
     "name": "stderr",
     "output_type": "stream",
     "text": [
      "ic| i: 0, e: 3\n",
      "ic| i: 1, e: 4\n",
      "ic| i: 2, e: 1\n",
      "ic| i: 3, e: 7\n",
      "ic| i: 4, e: 0\n"
     ]
    }
   ],
   "source": [
    "a3 = [3,4,1,7,0]\n",
    "\n",
    "for i, e in enumerate(a3):\n",
    "    ic(i, e)"
   ]
  },
  {
   "cell_type": "code",
   "execution_count": 62,
   "metadata": {
    "ExecuteTime": {
     "end_time": "2022-07-17T19:58:10.298438Z",
     "start_time": "2022-07-17T19:58:10.102913Z"
    }
   },
   "outputs": [
    {
     "name": "stderr",
     "output_type": "stream",
     "text": [
      "ic| i: 0, a3[i]: 3\n",
      "ic| i: 1, a3[i]: 4\n",
      "ic| i: 2, a3[i]: 1\n",
      "ic| i: 3, a3[i]: 7\n",
      "ic| i: 4, a3[i]: 0\n"
     ]
    }
   ],
   "source": [
    "a3 = [3,4,1,7,0]\n",
    "\n",
    "for i in range(len(a3)):\n",
    "    ic(i, a3[i])"
   ]
  },
  {
   "cell_type": "code",
   "execution_count": null,
   "metadata": {},
   "outputs": [],
   "source": []
  },
  {
   "cell_type": "code",
   "execution_count": null,
   "metadata": {},
   "outputs": [],
   "source": []
  }
 ],
 "metadata": {
  "kernelspec": {
   "display_name": "Python 3 (py36)",
   "language": "python",
   "name": "python3"
  },
  "language_info": {
   "codemirror_mode": {
    "name": "ipython",
    "version": 3
   },
   "file_extension": ".py",
   "mimetype": "text/x-python",
   "name": "python",
   "nbconvert_exporter": "python",
   "pygments_lexer": "ipython3",
   "version": "3.6.9"
  },
  "toc": {
   "base_numbering": 1,
   "nav_menu": {},
   "number_sections": true,
   "sideBar": true,
   "skip_h1_title": false,
   "title_cell": "Table of Contents",
   "title_sidebar": "Contents",
   "toc_cell": false,
   "toc_position": {},
   "toc_section_display": true,
   "toc_window_display": false
  }
 },
 "nbformat": 4,
 "nbformat_minor": 2
}
